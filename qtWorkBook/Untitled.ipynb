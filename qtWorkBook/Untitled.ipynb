{
 "cells": [
  {
   "cell_type": "code",
   "execution_count": 20,
   "id": "0e59910e-88f8-41fe-87ff-e5bdf1cd9f4b",
   "metadata": {},
   "outputs": [],
   "source": [
    "import yfinance as yf\n",
    "import pandas as pd\n",
    "import numpy as np"
   ]
  },
  {
   "cell_type": "code",
   "execution_count": 60,
   "id": "bba9ec0d-b6a9-4861-86e4-b350fc08b9d8",
   "metadata": {},
   "outputs": [
    {
     "name": "stdout",
     "output_type": "stream",
     "text": [
      "[*********************100%***********************]  1 of 1 completed\n",
      "[*********************100%***********************]  1 of 1 completed\n"
     ]
    }
   ],
   "source": [
    "price = yf.download('IGE', start = '2001-11-16', end='2007-11-15')\n",
    "#price.sort_index(inplace=True)\n",
    "dailyret = price.loc[:, 'Adj Close'].pct_change()\n",
    "excessret = dailyret - .04/252\n",
    "sharpeRatio = np.sqrt(252)*np.mean(excessret) / np.std(excessret)\n",
    "sharpeRatio\n",
    "\n",
    "priceSPY = yf.download('SPY', start = '2001-11-16', end='2007-11-15')\n",
    "retSPY = priceSPY.loc[:, 'Adj Close'].pct_change()\n",
    "\n",
    "strategy_return = (dailyret - retSPY)/2\n",
    "sharpe = np.sqrt(252)*np.mean(strategy_return)/np.std(strategy_return)\n",
    "sharpe\n",
    "\n",
    "strategy_return.dropna(inplace=True)\n"
   ]
  },
  {
   "cell_type": "code",
   "execution_count": 81,
   "id": "619e09f0-97f1-49c8-9044-f677e020549f",
   "metadata": {},
   "outputs": [
    {
     "name": "stdout",
     "output_type": "stream",
     "text": [
      "[0. 0. 1. ... 2. 3. 4.]\n"
     ]
    },
    {
     "data": {
      "text/plain": [
       "498.0"
      ]
     },
     "execution_count": 81,
     "metadata": {},
     "output_type": "execute_result"
    }
   ],
   "source": [
    "def calculateMaxDD(cumret):\n",
    "# ======================================================\n",
    "# calculation of maximum drawdown and maximum drawdown\n",
    "# duration based on\n",
    "# cumulative COMPOUNDED returns. cumret must be a com-\n",
    "# pounded cumulative return.\n",
    "# i is the index of the day with maxDD.\n",
    "# ======================================================\n",
    "    highwatermark=np.zeros(cumret.shape)\n",
    "    drawdown=np.zeros(cumret.shape)\n",
    "    drawdownduration=np.zeros(cumret.shape)\n",
    "    for t in np.arange(1, cumret.shape[0]):\n",
    "        highwatermark[t]=np.maximum(highwatermark[t-1],\n",
    "        cumret[t])\n",
    "        drawdown[t]=(1+cumret[t])/(1+highwatermark[t])-1\n",
    "        \n",
    "        if drawdown[t]==0.0:\n",
    "            drawdownduration[t]=0\n",
    "        else:\n",
    "            drawdownduration[t]=drawdownduration[t-1]+1\n",
    "        \n",
    "    maxDD, i = np.min(drawdown), np.argmin(drawdown) #drawdown < 0 always\n",
    "    \n",
    "    maxDDD = np.max(drawdownduration)\n",
    "    print(drawdownduration)\n",
    "    return maxDD, maxDDD, i, drawdownduration\n",
    "\n",
    "cumret = np.cumprod(1 + strategy_return) - 1\n",
    "maxDrawdown, maxDrawdownDuration, startDrawdownDay, ddd= calculateMaxDD(cumret.values)\n",
    "\n",
    "maxDrawdownDuration\n"
   ]
  },
  {
   "cell_type": "code",
   "execution_count": 80,
   "id": "b6384c65-6bb1-441f-800f-003eae1533e4",
   "metadata": {},
   "outputs": [
    {
     "data": {
      "text/plain": [
       "[<matplotlib.lines.Line2D at 0x7f6de3f6cd60>]"
      ]
     },
     "execution_count": 80,
     "metadata": {},
     "output_type": "execute_result"
    },
    {
     "data": {
      "image/png": "[encoded data removed]",
      "text/plain": [
       "<Figure size 432x288 with 1 Axes>"
      ]
     },
     "metadata": {
      "needs_background": "light"
     },
     "output_type": "display_data"
    }
   ],
   "source": [
    "from matplotlib import pyplot as plt\n",
    "plt.plot(cumret)"
   ]
  }
 ],
 "metadata": {
  "kernelspec": {
   "display_name": "Python 3 (ipykernel)",
   "language": "python",
   "name": "python3"
  },
  "language_info": {
   "codemirror_mode": {
    "name": "ipython",
    "version": 3
   },
   "file_extension": ".py",
   "mimetype": "text/x-python",
   "name": "python",
   "nbconvert_exporter": "python",
   "pygments_lexer": "ipython3",
   "version": "3.9.7"
  }
 },
 "nbformat": 4,
 "nbformat_minor": 5
}
